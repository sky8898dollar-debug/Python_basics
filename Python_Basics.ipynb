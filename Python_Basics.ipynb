{
  "nbformat": 4,
  "nbformat_minor": 0,
  "metadata": {
    "colab": {
      "provenance": []
    },
    "kernelspec": {
      "name": "python3",
      "display_name": "Python 3"
    },
    "language_info": {
      "name": "python"
    }
  },
  "cells": [
    {
      "cell_type": "markdown",
      "source": [
        "# Python Basics"
      ],
      "metadata": {
        "id": "k7TvLxFJG_1g"
      }
    },
    {
      "cell_type": "markdown",
      "source": [
        "Q1. **What is Python, and why is it popular?**\n",
        "  \n",
        "  **Ans**->  Python is a high-level, interpreted, general-purpose programming       language known for its readability and simplicity. Created by Guido van Rossum in 1991, Python emphasizes code readability with its clean syntax and indentation-based structure.\n",
        "   \n",
        "   **Why is Python Popular?**\n",
        "  \n",
        "  i. Easy to Learn & Readable Syntax:-  \n",
        "     Python's syntax is simple and resembles English, making it beginner-friendly.\n",
        "  \n",
        "  ii. Versatile & General-Purpose:-  \n",
        "      Used in web development, data science, AI, automation, scripting, cybersecurity, and more.\n",
        "  \n",
        "  iii. Large Standard Library\n",
        "  \n",
        "  iv. Cross-Platform Compatibility\n",
        "\n",
        "  v. Strong Community & Ecosystem\n",
        "  \n",
        "  vi. Great for Prototyping & Rapid Development\n",
        "  \n",
        "  vii. High Demand in Industry\n",
        "\n",
        "\n"
      ],
      "metadata": {
        "id": "QOMtDA2rH0_T"
      }
    },
    {
      "cell_type": "markdown",
      "source": [
        "Q2.  What is an interpreter in Python?\n",
        "\n",
        "  **Ans** -> An interpreter in Python is a program that executes Python code line by line, translating it into machine-readable instructions on the fly (without compiling it into a separate executable file).\n",
        "\n",
        "  * Key Features of Python Interpreter :-\n",
        "  \n",
        "     i. Reads & Executes Code Directly\n",
        "\n",
        "     ii. Interactive Shell (REPL)\n",
        "\n",
        "     iii. Slower than Compiled Code\n",
        "\n",
        "     iv. Platform Independence\n",
        "     \n",
        "     v. Error Handling at Runtime\n",
        "\n",
        "\n",
        "\n"
      ],
      "metadata": {
        "id": "qNfzieEvkkye"
      }
    },
    {
      "cell_type": "markdown",
      "source": [
        "Q3.  What are pre-defined keywords in Python?\n",
        "\n",
        "  **Ans** -> Keywords in Python are reserved words that have special meanings and cannot be used as variable names, function names, or identifiers. Python has 35 pre-defined keywords.\n",
        "\n",
        "  List of Python Keywords:\n",
        "\n",
        "  ['False', 'None', 'True', 'and', 'as', 'assert', 'async', 'await', 'break', 'class', 'continue', 'def', 'del', 'elif', 'else', 'except', 'finally', 'for', 'from', 'global', 'if', 'import', 'in', 'is', 'lambda', 'nonlocal', 'not', 'or', 'pass', 'raise', 'return', 'try', 'while', 'with', 'yield']."
      ],
      "metadata": {
        "id": "6QtePmP6top0"
      }
    },
    {
      "cell_type": "markdown",
      "source": [
        "Q4. Can keywords be used as variable names?\n",
        "\n",
        "  **Ans** -> No, Python keywords cannot be used as variable names (or function/class names). They are reserved for special language operations, and using them as identifiers will cause a SyntaxError.\n",
        "\n",
        " ** Why Keywords Cannot Be Variables?**\n",
        "\n",
        "  Python keywords have predefined meanings (e.g., if for conditionals, for for loops). Reusing them as variables would confuse the interpreter."
      ],
      "metadata": {
        "id": "dP14xMtfvD_2"
      }
    },
    {
      "cell_type": "markdown",
      "source": [
        "Q5. What is mutability in Python?\n",
        "\n",
        "  **Ans** -> In Python, mutability is a fundamental property of objects that determines whether their internal state (or value) can be modified after creation.\n",
        "\n",
        "  **Core Concepts**\n",
        "\n",
        "  i. Mutable Objects\n",
        "       \n",
        "  Can be altered in-place (i.e., modified without creating a new object).\n",
        "\n",
        "  Changes affect all references to the object (since they point to the same memory location).\n",
        "\n",
        "  Examples: list, dict, set, bytearray.\n",
        "\n",
        "  ii. Immutable Objects\n",
        "\n",
        "  Cannot be changed after creation. Any \"modification\" creates a new object.\n",
        "\n",
        "  References to the original object remain unchanged.\n",
        "\n",
        "  Examples: int, float, str, tuple, frozenset, bytes.\n"
      ],
      "metadata": {
        "id": "HNPnLcQ3yu28"
      }
    },
    {
      "cell_type": "markdown",
      "source": [
        "Q6. Why are lists mutable, but tuples are immutable?\n",
        "\n",
        "  **Ans** -> i. Core Design Philosophy :\n",
        "  \n",
        "  Python’s designers intentionally made lists mutable and tuples immutable to serve distinct programming needs:\n",
        "\n",
        "* Lists: Designed for dynamic collections where modifications (add/remove/change) are frequent.\n",
        "\n",
        "* Tuples: Designed for static collections where data integrity and hashability (e.g., dictionary keys) are prioritized.\n",
        "\n",
        "\n",
        "  ii.Technical Reasons for Mutability vs. Immutability :\n",
        "\n",
        "  * List Mutable : Memory Allocation is Over-allocates memory to allow O(1) appends, Use Case is Dynamic data (e.g., growing datasets), Hashability is Not hashable (cannot be dictionary keys), Safety is Prone to unintended side effects.\n",
        "\n",
        "  * Tuples (Immutable) : Memory Allocation is Fixed memory allocation at creation, Use Case is Fixed data (e.g., coordinates, database rows), Hashability is Hashable (can be dictionary keys), Safety is Thread-safe and data-integrity guaranteed."
      ],
      "metadata": {
        "id": "4xusaR7s0WME"
      }
    },
    {
      "cell_type": "markdown",
      "source": [
        "Q7. What is the difference between “==” and “is” operators in Python?\n",
        "\n",
        "  **Ans** -> 1. Fundamental Distinction\n",
        "\n",
        "  * == (Equality Operator)\n",
        "\n",
        "    Checks if two objects have the same value (content comparison).\n",
        "\n",
        "    Implemented via the __eq__() method (can be overridden).\n",
        "\n",
        "  * is (Identity Operator)\n",
        "\n",
        "    Checks if two references point to the same object in memory (address comparison).\n",
        "\n",
        "    Compares object IDs (like id(a) == id(b)).\n",
        "\n",
        "  2. Aspect(==) :\n",
        "       Purpose is Value equality, Implementation is Uses __eq__() method, Performance is Slower (may involve deep comparison), Use Case is Comparing data (e.g., [1,2] == [1,2])\n",
        "\n",
        "       Aspect(is) :\n",
        "       Purpose is Object identity, Implementation is Compares memory addresses (id()), Performance is Faster (pointer comparison), Use Case is Checking singletons (None, True, etc.)\n",
        "\n"
      ],
      "metadata": {
        "id": "eIuryHoz8MDT"
      }
    },
    {
      "cell_type": "markdown",
      "source": [
        "Q8. What are logical operators in Python?\n",
        "\n",
        "   **Ans** -> Core Logical operators:\n",
        "\n",
        "  Logical AND : \"and\" is returns true if both operands are true. Evaluates to the last truthy operand if both are truthy, otherwise the first falsy operand.\n",
        "\n",
        "  Logical OR : \"or\" is returns True if at least one operand is true. Evaluates to the first truthy operand, or the last falsy if none are truthy.\n",
        "\n",
        "  Logical NOT : \"Not\" is Inverts the Boolean value (True → False, False → True). Always returns a Boolean."
      ],
      "metadata": {
        "id": "DdRoSMGLAwXE"
      }
    },
    {
      "cell_type": "markdown",
      "source": [
        "Q9.  What is type casting in Python?\n",
        "\n",
        "  **Ans** -> Type casting (or type conversion) refers to the process of converting an object from one data type to another. Python supports both implicit (automatic) and explicit (manual) type casting.\n",
        "\n",
        "  i. Implicit : Automatically performed by Python when mixing compatible types. Example, 3 + 4.5 → 7.5 (int → float).\n",
        "\n",
        "  ii. Explicit : Manually enforced using built-in functions like int(), str(), etc.\tExample, int(\"42\") → 42."
      ],
      "metadata": {
        "id": "mpm1GdOZDSla"
      }
    },
    {
      "cell_type": "markdown",
      "source": [
        "Q10. What is the difference between implicit and explicit type casting?\n",
        "\n",
        "  **Ans** -> Implicit Type Casting (Coercion)\n",
        "  Automatically performed by Python when combining compatible types without programmer intervention. Follows Python’s predefined conversion rules.\n",
        "\n",
        "  Explicit Type Casting (Conversion)\n",
        "  Manually enforced by the programmer using built-in functions (e.g., int(), str()). Requires intentional syntax to convert between types.\n",
        "    \n",
        "    \n",
        "   Key difference of Aspect :-\n",
        "\n",
        "  Implicit : Python interpreter is initiation, No extra code (e.g., 3 + 5.0) is Syntax, Limited to \"safe\" conversions is Safety, Context-dependent is Predictability, Arithmetic and comparisons is use case.\n",
        "\n",
        "  Explicit : Programmer is initiation, Uses functions (e.g., float(3)) is Syntax, May raise errors (e.g., int(\"text\")) is Safety, Fully controlled is Predictability, Data parsing & type enforcement is use case.\n",
        "\n"
      ],
      "metadata": {
        "id": "AFtbN4V_Fccb"
      }
    },
    {
      "cell_type": "markdown",
      "source": [
        "Q11. What is the purpose of conditional statements in Python?\n",
        "\n",
        "  **Ans** -> Conditional statements in Python are control structures that execute different code blocks based on whether a specified condition evaluates to True or False. They introduce decision-making logic into programs.\n",
        "\n",
        "  *Core Purpose : - Conditional statements serve three primary roles:\n",
        "\n",
        "  i. Branching Execution:\n",
        "  \n",
        "   Direct program flow along different paths based on runtime conditions.\n",
        "\n",
        "  ii. Error Prevention:\n",
        "\n",
        "  Validate inputs or states before operations.\n",
        "\n",
        "  iii.State Management:\n",
        "\n",
        "  Handle different program states or modes."
      ],
      "metadata": {
        "id": "iq0fk9MvQJ6P"
      }
    },
    {
      "cell_type": "markdown",
      "source": [
        "Q12. How does the elif statement work?\n",
        "\n",
        " **Ans** -> The elif statement (short for \"else if\") is a conditional branching construct used in Python to test multiple exclusive conditions sequentially after an initial if statement. It provides a structured way to handle decision trees with more than two possible paths.\n",
        "\n",
        " i. Core Functionality\n",
        "\n",
        "  Chained Evaluation: Python evaluates elif conditions in order until one evaluates to True, then executes its block and skips all subsequent branches.\n",
        "\n",
        "  Mutual Exclusivity: Only one block (if, elif, or else) executes, even if multiple conditions are True.\n",
        "\n",
        "  Syntax Requirement: Must follow an if and precede an optional else."
      ],
      "metadata": {
        "id": "-qICt4V3Te4y"
      }
    },
    {
      "cell_type": "markdown",
      "source": [
        "Q13. What is the difference between for and while loops?\n",
        "\n",
        "  **Ans** -> Core Purpose\n",
        "\n",
        "  i. 'for' Loop:\n",
        "\n",
        "  * Iterates over a sequence (e.g., list, string, range) or any iterable object.\n",
        "\n",
        "  * Designed for definite iteration (known number of iterations).\n",
        "\n",
        "  ii. 'while' Loop:\n",
        "  \n",
        "  * Repeats while a condition is True.\n",
        "\n",
        "  * Designed for indefinite iteration (unknown iterations until condition fails).\n",
        "\n",
        "  2. Key Differences of Aspect :\n",
        "\n",
        "  'for' Loop : Iterates over a predefined sequence is Control Mechanism, Automatically binds loop variable to items is Initialization, Ends when sequence is exhausted termination, Bounded iterations (e.g., process each item) is Use Case, Impossible (unless sequence is infinite) is Risk of Infinite Loop.\n",
        "\n",
        "  'while' Loop : Runs until a condition becomes False is Control Mechanism, Requires manual initialization of loop variables is Initialization, Ends only when condition evaluates to False is Termination, Unbounded iterations (e.g., waiting for input) is use case, Possible if condition never becomes False is Risk of Infinite Loop.\n",
        "    \n"
      ],
      "metadata": {
        "id": "g-706zLCUQgb"
      }
    },
    {
      "cell_type": "markdown",
      "source": [
        "Q14. Describe a scenario where a while loop is more suitable than a for loop.\n",
        "\n",
        "  **Ans** -> A while loop is more suitable than a for loop when the number of iterations is unknown or depends on dynamic runtime conditions that cannot be predefined as a sequence.\n",
        "\n",
        "  Why while is better than for:\n",
        "\n",
        "  - Unknown iterations: You can't predict how many times a user will enter wrong data\n",
        "\n",
        "  - Condition-based: You want to stop only when you get valid input\n",
        "\n",
        "  - Flexibility: The loop adapts to user behavior in real-time"
      ],
      "metadata": {
        "id": "DZUZcyy7Zyuw"
      }
    },
    {
      "cell_type": "code",
      "source": [
        "# Q1. Write a Python program to print \"Hello, World!\"\n",
        "\n",
        "print(\"Hello,world!\")"
      ],
      "metadata": {
        "colab": {
          "base_uri": "https://localhost:8080/"
        },
        "id": "TTojKORAQ-6k",
        "outputId": "462552da-a1e5-489d-ea06-33cb264197cf"
      },
      "execution_count": null,
      "outputs": [
        {
          "output_type": "stream",
          "name": "stdout",
          "text": [
            "Hello,world!\n"
          ]
        }
      ]
    },
    {
      "cell_type": "code",
      "source": [
        "# Q2. Write a Python program that displays your name and age.\n",
        "\n",
        "name = \"Akash Angarakhe\"\n",
        "age = 31\n",
        "\n",
        "print(\"Name:\", name)\n",
        "print(\"Age:\", age)\n"
      ],
      "metadata": {
        "colab": {
          "base_uri": "https://localhost:8080/"
        },
        "id": "XQrJpyA933lH",
        "outputId": "89afb731-5d78-44e3-bc97-df7c16b5a266"
      },
      "execution_count": null,
      "outputs": [
        {
          "output_type": "stream",
          "name": "stdout",
          "text": [
            "Name: Akash Angarakhe\n",
            "Age: 31\n"
          ]
        }
      ]
    },
    {
      "cell_type": "code",
      "source": [
        "# Q3. Write code to print all the pre-defined keywords in Python using the keyword library.\n",
        "\n",
        "import keyword\n",
        "\n",
        "# Print all keywords in a readable format\n",
        "print(\"Python Keywords:\")\n",
        "print(\"-\" * 15)\n",
        "for i, kw in enumerate(keyword.kwlist, 1):\n",
        "    print(f\"{i}. {kw}\")\n",
        "\n",
        "# Bonus: Print the total count\n",
        "print(f\"\\nTotal Keywords: {len(keyword.kwlist)}\")"
      ],
      "metadata": {
        "colab": {
          "base_uri": "https://localhost:8080/"
        },
        "id": "G7JaQi6b7hxz",
        "outputId": "38d441ab-8f66-44f6-870e-aa11f974bfd9"
      },
      "execution_count": null,
      "outputs": [
        {
          "output_type": "stream",
          "name": "stdout",
          "text": [
            "Python Keywords:\n",
            "---------------\n",
            "1. False\n",
            "2. None\n",
            "3. True\n",
            "4. and\n",
            "5. as\n",
            "6. assert\n",
            "7. async\n",
            "8. await\n",
            "9. break\n",
            "10. class\n",
            "11. continue\n",
            "12. def\n",
            "13. del\n",
            "14. elif\n",
            "15. else\n",
            "16. except\n",
            "17. finally\n",
            "18. for\n",
            "19. from\n",
            "20. global\n",
            "21. if\n",
            "22. import\n",
            "23. in\n",
            "24. is\n",
            "25. lambda\n",
            "26. nonlocal\n",
            "27. not\n",
            "28. or\n",
            "29. pass\n",
            "30. raise\n",
            "31. return\n",
            "32. try\n",
            "33. while\n",
            "34. with\n",
            "35. yield\n",
            "\n",
            "Total Keywords: 35\n"
          ]
        }
      ]
    },
    {
      "cell_type": "code",
      "source": [
        "# Q.4  Write a program that checks if a given word is a Python keyword.\n",
        "\n",
        "import keyword\n",
        "\n",
        "word = input(\"Enter a word: \")\n",
        "print(f\"'{word}' is {'a' if keyword.iskeyword(word) else 'not a'} Python keyword\")"
      ],
      "metadata": {
        "colab": {
          "base_uri": "https://localhost:8080/"
        },
        "id": "ajq-ivPsoh5C",
        "outputId": "e2243723-b0d6-4fcd-bc83-94013a9905c1"
      },
      "execution_count": 8,
      "outputs": [
        {
          "output_type": "stream",
          "name": "stdout",
          "text": [
            "Enter a word: if\n",
            "'if' is a Python keyword\n"
          ]
        }
      ]
    },
    {
      "cell_type": "code",
      "source": [
        "# Q.5  Create a list and tuple in Python, and demonstrate how attempting to change an element works differently for each.\n",
        "\n",
        "# Create a list and tuple\n",
        "my_list = [10, 20, 30]     # List - can be changed\n",
        "my_tuple = (10, 20, 30)    # Tuple - cannot be changed\n",
        "\n",
        "# Try to change the second element (index 1)\n",
        "my_list[1] = 99      # This works for lists\n",
        "print(\"Modified list:\", my_list)\n",
        "\n",
        "# This will fail for tuples\n",
        "try:\n",
        "    my_tuple[1] = 99\n",
        "except TypeError:\n",
        "    print(\"Tuples cannot be modified!\")\n",
        "    print(\"Original tuple remains:\", my_tuple)"
      ],
      "metadata": {
        "colab": {
          "base_uri": "https://localhost:8080/"
        },
        "id": "bW-OoCHbvafj",
        "outputId": "4627ff58-016a-45b5-f537-b46bdc9dc8b3"
      },
      "execution_count": 11,
      "outputs": [
        {
          "output_type": "stream",
          "name": "stdout",
          "text": [
            "Modified list: [10, 99, 30]\n",
            "Tuples cannot be modified!\n",
            "Original tuple remains: (10, 20, 30)\n"
          ]
        }
      ]
    },
    {
      "cell_type": "code",
      "source": [
        "# Q.6 Write a function to demonstrate the behavior of mutable and immutable arguments.\n",
        "\n",
        "def modify_args(a, b):\n",
        "    print(\"\\nBefore modification:\")\n",
        "    print(\"a (immutable - int):\", a)\n",
        "    print(\"b (mutable - list):\", b)\n",
        "\n",
        "    # Try to modify both arguments\n",
        "    a += 10          # Attempt to modify immutable integer\n",
        "    b.append(4)      # Attempt to modify mutable list\n",
        "\n",
        "    print(\"\\nAfter modification:\")\n",
        "    print(\"a inside function:\", a)  # Only local copy changed\n",
        "    print(\"b inside function:\", b)  # Original list modified\n",
        "\n",
        "# Test with immutable (int) and mutable (list) arguments\n",
        "x = 5               # Immutable integer\n",
        "y = [1, 2, 3]       # Mutable list\n",
        "\n",
        "modify_args(x, y)\n",
        "\n",
        "print(\"\\nOutside function:\")\n",
        "print(\"x (immutable):\", x)  # Original unchanged\n",
        "print(\"y (mutable):\", y)    # Original changed!"
      ],
      "metadata": {
        "colab": {
          "base_uri": "https://localhost:8080/"
        },
        "id": "l8C0EMf7xV96",
        "outputId": "49a2e843-7692-4ac8-f49c-d3c4e5a6037b"
      },
      "execution_count": 12,
      "outputs": [
        {
          "output_type": "stream",
          "name": "stdout",
          "text": [
            "\n",
            "Before modification:\n",
            "a (immutable - int): 5\n",
            "b (mutable - list): [1, 2, 3]\n",
            "\n",
            "After modification:\n",
            "a inside function: 15\n",
            "b inside function: [1, 2, 3, 4]\n",
            "\n",
            "Outside function:\n",
            "x (immutable): 5\n",
            "y (mutable): [1, 2, 3, 4]\n"
          ]
        }
      ]
    },
    {
      "cell_type": "code",
      "source": [
        "# Q.7 Write a program that performs basic arithmetic operations on two user-input numbers.\n",
        "\n",
        "# Get input from user\n",
        "num1 = float(input(\"Enter first number: \"))\n",
        "num2 = float(input(\"Enter second number: \"))\n",
        "\n",
        "# Perform calculations\n",
        "sum = num1 + num2\n",
        "difference = num1 - num2\n",
        "product = num1 * num2\n",
        "quotient = num1 / num2\n",
        "\n",
        "# Display results\n",
        "print(\"\\nResults:\")\n",
        "print(f\"{num1} + {num2} = {sum}\")\n",
        "print(f\"{num1} - {num2} = {difference}\")\n",
        "print(f\"{num1} × {num2} = {product}\")\n",
        "print(f\"{num1} ÷ {num2} = {quotient:.2f}\")  # Rounded to 2 decimal places"
      ],
      "metadata": {
        "colab": {
          "base_uri": "https://localhost:8080/"
        },
        "id": "hA4w9-Ta0Apo",
        "outputId": "c2598543-f7c9-4f14-c5fe-70825698f130"
      },
      "execution_count": 13,
      "outputs": [
        {
          "output_type": "stream",
          "name": "stdout",
          "text": [
            "Enter first number: 10\n",
            "Enter second number: 5\n",
            "\n",
            "Results:\n",
            "10.0 + 5.0 = 15.0\n",
            "10.0 - 5.0 = 5.0\n",
            "10.0 × 5.0 = 50.0\n",
            "10.0 ÷ 5.0 = 2.00\n"
          ]
        }
      ]
    },
    {
      "cell_type": "code",
      "source": [
        "# Q.8 Write a program to demonstrate the use of logical operators.\n",
        "\n",
        "# Simple program to demonstrate logical operators\n",
        "a = True\n",
        "b = False\n",
        "\n",
        "print(\"a =\", a)\n",
        "print(\"b =\", b)\n",
        "\n",
        "# AND operator (both must be True)\n",
        "print(\"\\na AND b:\", a and b)  # False\n",
        "\n",
        "# OR operator (at least one True)\n",
        "print(\"a OR b:\", a or b)     # True\n",
        "\n",
        "# NOT operator (inverts the value)\n",
        "print(\"NOT a:\", not a)       # False\n",
        "print(\"NOT b:\", not b)       # True\n",
        "\n",
        "# Practical example with numbers\n",
        "x = 5\n",
        "print(\"\\nx =\", x)\n",
        "print(\"x > 3 AND x < 10:\", x > 3 and x < 10)   # True\n",
        "print(\"x < 3 OR x > 10:\", x < 3 or x > 10)     # False\n",
        "print(\"NOT x > 3:\", not x > 3)                 # False\n",
        "\n"
      ],
      "metadata": {
        "colab": {
          "base_uri": "https://localhost:8080/"
        },
        "id": "gSO_V4qo0ei_",
        "outputId": "8139e523-387a-49f5-bd53-58608933f5b3"
      },
      "execution_count": 14,
      "outputs": [
        {
          "output_type": "stream",
          "name": "stdout",
          "text": [
            "a = True\n",
            "b = False\n",
            "\n",
            "a AND b: False\n",
            "a OR b: True\n",
            "NOT a: False\n",
            "NOT b: True\n",
            "\n",
            "x = 5\n",
            "x > 3 AND x < 10: True\n",
            "x < 3 OR x > 10: False\n",
            "NOT x > 3: False\n"
          ]
        }
      ]
    },
    {
      "cell_type": "code",
      "source": [
        "# Q.9 Write a Python program to convert user input from string to integer, float, and boolean types.\n",
        "\n",
        "# Get user input (always comes as string)\n",
        "user_input = input(\"Enter a value: \")\n",
        "\n",
        "# Convert to different types\n",
        "try:\n",
        "    # Convert to integer\n",
        "    as_int = int(user_input)\n",
        "    print(f\"As integer: {as_int} (Type: {type(as_int)})\")\n",
        "except ValueError:\n",
        "    print(\"Cannot convert to integer\")\n",
        "\n",
        "try:\n",
        "    # Convert to float\n",
        "    as_float = float(user_input)\n",
        "    print(f\"As float: {as_float} (Type: {type(as_float)})\")\n",
        "except ValueError:\n",
        "    print(\"Cannot convert to float\")\n",
        "\n",
        "# Convert to boolean (special handling)\n",
        "if user_input.lower() in (\"true\", \"yes\", \"1\"):\n",
        "    as_bool = True\n",
        "elif user_input.lower() in (\"false\", \"no\", \"0\"):\n",
        "    as_bool = False\n",
        "else:\n",
        "    as_bool = bool(user_input)  # Empty string = False, any other = True\n",
        "\n",
        "print(f\"As boolean: {as_bool} (Type: {type(as_bool)})\")\n",
        "\n"
      ],
      "metadata": {
        "colab": {
          "base_uri": "https://localhost:8080/"
        },
        "id": "zu6FjlcJ1a_1",
        "outputId": "91f09561-2b46-438d-b9e3-b3d5c5dae3bd"
      },
      "execution_count": 15,
      "outputs": [
        {
          "output_type": "stream",
          "name": "stdout",
          "text": [
            "Enter a value: 42\n",
            "As integer: 42 (Type: <class 'int'>)\n",
            "As float: 42.0 (Type: <class 'float'>)\n",
            "As boolean: True (Type: <class 'bool'>)\n"
          ]
        }
      ]
    },
    {
      "cell_type": "code",
      "source": [
        "# Get user input (always comes as string)\n",
        "user_input = input(\"Enter a value: \")\n",
        "\n",
        "# Convert to different types\n",
        "try:\n",
        "    # Convert to integer\n",
        "    as_int = int(user_input)\n",
        "    print(f\"As integer: {as_int} (Type: {type(as_int)})\")\n",
        "except ValueError:\n",
        "    print(\"Cannot convert to integer\")\n",
        "\n",
        "try:\n",
        "    # Convert to float\n",
        "    as_float = float(user_input)\n",
        "    print(f\"As float: {as_float} (Type: {type(as_float)})\")\n",
        "except ValueError:\n",
        "    print(\"Cannot convert to float\")\n",
        "\n",
        "# Convert to boolean (special handling)\n",
        "if user_input.lower() in (\"true\", \"yes\", \"1\"):\n",
        "    as_bool = True\n",
        "elif user_input.lower() in (\"false\", \"no\", \"0\"):\n",
        "    as_bool = False\n",
        "else:\n",
        "    as_bool = bool(user_input)  # Empty string = False, any other = True\n",
        "\n",
        "print(f\"As boolean: {as_bool} (Type: {type(as_bool)})\")"
      ],
      "metadata": {
        "colab": {
          "base_uri": "https://localhost:8080/"
        },
        "id": "xK5J9DZL2aqh",
        "outputId": "296d11d1-7d23-4024-8269-3505c24611ca"
      },
      "execution_count": 16,
      "outputs": [
        {
          "output_type": "stream",
          "name": "stdout",
          "text": [
            "Enter a value: 3.14\n",
            "Cannot convert to integer\n",
            "As float: 3.14 (Type: <class 'float'>)\n",
            "As boolean: True (Type: <class 'bool'>)\n"
          ]
        }
      ]
    },
    {
      "cell_type": "code",
      "source": [
        "# Get user input (always comes as string)\n",
        "user_input = input(\"Enter a value: \")\n",
        "\n",
        "# Convert to different types\n",
        "try:\n",
        "    # Convert to integer\n",
        "    as_int = int(user_input)\n",
        "    print(f\"As integer: {as_int} (Type: {type(as_int)})\")\n",
        "except ValueError:\n",
        "    print(\"Cannot convert to integer\")\n",
        "\n",
        "try:\n",
        "    # Convert to float\n",
        "    as_float = float(user_input)\n",
        "    print(f\"As float: {as_float} (Type: {type(as_float)})\")\n",
        "except ValueError:\n",
        "    print(\"Cannot convert to float\")\n",
        "\n",
        "# Convert to boolean (special handling)\n",
        "if user_input.lower() in (\"true\", \"yes\", \"1\"):\n",
        "    as_bool = True\n",
        "elif user_input.lower() in (\"false\", \"no\", \"0\"):\n",
        "    as_bool = False\n",
        "else:\n",
        "    as_bool = bool(user_input)  # Empty string = False, any other = True\n",
        "\n",
        "print(f\"As boolean: {as_bool} (Type: {type(as_bool)})\")"
      ],
      "metadata": {
        "colab": {
          "base_uri": "https://localhost:8080/"
        },
        "id": "PhdEIZiG2uJi",
        "outputId": "30319fbe-c3fd-4dbf-a23b-e6dfa150d696"
      },
      "execution_count": 17,
      "outputs": [
        {
          "output_type": "stream",
          "name": "stdout",
          "text": [
            "Enter a value: hello\n",
            "Cannot convert to integer\n",
            "Cannot convert to float\n",
            "As boolean: True (Type: <class 'bool'>)\n"
          ]
        }
      ]
    },
    {
      "cell_type": "code",
      "source": [
        "# Q.10  Write code to demonstrate type casting with list elements.\n",
        "\n",
        "# Original list with mixed string elements\n",
        "string_list = [\"10\", \"25.5\", \"True\", \"hello\"]\n",
        "\n",
        "# Convert elements to different types\n",
        "int_list = [int(string_list[0])]          # Convert first to integer\n",
        "float_list = [float(string_list[1])]      # Convert second to float\n",
        "bool_list = [bool(string_list[2])]        # Convert third to boolean\n",
        "str_list = [str(x) for x in string_list]  # All elements remain strings\n",
        "\n",
        "# Print results\n",
        "print(\"Original list:\", string_list)\n",
        "print(\"First element as integer:\", int_list)\n",
        "print(\"Second element as float:\", float_list)\n",
        "print(\"Third element as boolean:\", bool_list)\n",
        "print(\"All elements as strings:\", str_list)"
      ],
      "metadata": {
        "colab": {
          "base_uri": "https://localhost:8080/"
        },
        "id": "aVivuoh-2_H1",
        "outputId": "4d3457e4-8bc4-442e-d0fb-136cc5fd72d4"
      },
      "execution_count": 11,
      "outputs": [
        {
          "output_type": "stream",
          "name": "stdout",
          "text": [
            "Original list: ['10', '25.5', 'True', 'hello']\n",
            "First element as integer: [10]\n",
            "Second element as float: [25.5]\n",
            "Third element as boolean: [True]\n",
            "All elements as strings: ['10', '25.5', 'True', 'hello']\n"
          ]
        }
      ]
    },
    {
      "cell_type": "code",
      "source": [
        "# Q.11  Write a program that checks if a number is positive, negative, or zero.\n",
        "\n",
        "# Get user input and convert to float\n",
        "number = float(input(\"Enter a number: \"))\n",
        "\n",
        "# Check the number\n",
        "if number > 0:\n",
        "    print(\"Positive number\")\n",
        "elif number < 0:\n",
        "    print(\"Negative number\")\n",
        "else:\n",
        "    print(\"Zero\")"
      ],
      "metadata": {
        "colab": {
          "base_uri": "https://localhost:8080/"
        },
        "id": "7d0PhpnM5Hey",
        "outputId": "b8c529f5-c876-456c-c4a7-6cc7d762ee6f"
      },
      "execution_count": 31,
      "outputs": [
        {
          "output_type": "stream",
          "name": "stdout",
          "text": [
            "Enter a number: 5.2\n",
            "Positive number\n"
          ]
        }
      ]
    },
    {
      "cell_type": "code",
      "source": [
        "# Get user input and convert to float\n",
        "number = float(input(\"Enter a number: \"))\n",
        "\n",
        "# Check the number\n",
        "if number > 0:\n",
        "    print(\"Positive number\")\n",
        "elif number < 0:\n",
        "    print(\"Negative number\")\n",
        "else:\n",
        "    print(\"Zero\")"
      ],
      "metadata": {
        "colab": {
          "base_uri": "https://localhost:8080/"
        },
        "id": "R-WHl5Fb6kAk",
        "outputId": "49c49699-b17a-4414-df82-34017ed8b6ae"
      },
      "execution_count": 32,
      "outputs": [
        {
          "output_type": "stream",
          "name": "stdout",
          "text": [
            "Enter a number: -2\n",
            "Negative number\n"
          ]
        }
      ]
    },
    {
      "cell_type": "code",
      "source": [
        "# Get user input and convert to float\n",
        "number = float(input(\"Enter a number: \"))\n",
        "\n",
        "# Check the number\n",
        "if number > 0:\n",
        "    print(\"Positive number\")\n",
        "elif number < 0:\n",
        "    print(\"Negative number\")\n",
        "else:\n",
        "    print(\"Zero\")"
      ],
      "metadata": {
        "colab": {
          "base_uri": "https://localhost:8080/"
        },
        "id": "vKI4mbz66nwF",
        "outputId": "f7725bdb-7f45-4860-cfac-dfa53c490ce2"
      },
      "execution_count": 33,
      "outputs": [
        {
          "output_type": "stream",
          "name": "stdout",
          "text": [
            "Enter a number: 0\n",
            "Zero\n"
          ]
        }
      ]
    },
    {
      "cell_type": "code",
      "source": [
        "# Q.12  Write a for loop to print numbers from 1 to 10.\n",
        "\n",
        "# Simple for loop to print 1-10\n",
        "for number in range(1, 11):\n",
        "    print(number)"
      ],
      "metadata": {
        "colab": {
          "base_uri": "https://localhost:8080/"
        },
        "id": "B9zGd8bL6qMB",
        "outputId": "d2599ef0-6b94-463d-b3e5-8b2c84716846"
      },
      "execution_count": 34,
      "outputs": [
        {
          "output_type": "stream",
          "name": "stdout",
          "text": [
            "1\n",
            "2\n",
            "3\n",
            "4\n",
            "5\n",
            "6\n",
            "7\n",
            "8\n",
            "9\n",
            "10\n"
          ]
        }
      ]
    },
    {
      "cell_type": "code",
      "source": [
        "# Q.13 Write a Python program to find the sum of all even numbers between 1 and 50.\n",
        "\n",
        "# Simple program to sum even numbers from 1 to 50\n",
        "total = 0\n",
        "\n",
        "for number in range(2, 51, 2):  # Start at 2, end before 51, step by 2\n",
        "    total += number\n",
        "\n",
        "print(\"Sum of even numbers from 1 to 50:\", total)\n",
        "\n"
      ],
      "metadata": {
        "colab": {
          "base_uri": "https://localhost:8080/"
        },
        "id": "ZrkKx5rs7E36",
        "outputId": "b288d819-3e6a-487d-d51f-ae164c8a1535"
      },
      "execution_count": 35,
      "outputs": [
        {
          "output_type": "stream",
          "name": "stdout",
          "text": [
            "Sum of even numbers from 1 to 50: 650\n"
          ]
        }
      ]
    },
    {
      "cell_type": "code",
      "source": [
        "# Q.14 Write a program to reverse a string using a while loop.\n",
        "\n",
        "# Get input string\n",
        "text = input(\"Enter a string: \")\n",
        "\n",
        "# Initialize variables\n",
        "reversed_text = \"\"\n",
        "index = len(text) - 1  # Start from last character\n",
        "\n",
        "# Reverse using while loop\n",
        "while index >= 0:\n",
        "    reversed_text += text[index]\n",
        "    index -= 1\n",
        "\n",
        "print(\"Reversed string:\", reversed_text)"
      ],
      "metadata": {
        "colab": {
          "base_uri": "https://localhost:8080/"
        },
        "id": "zVfe3X6l7xP_",
        "outputId": "10b0b394-2626-41e7-9355-c20486fecde3"
      },
      "execution_count": 5,
      "outputs": [
        {
          "output_type": "stream",
          "name": "stdout",
          "text": [
            "Enter a string: hsakA\n",
            "Reversed string: Akash\n"
          ]
        }
      ]
    },
    {
      "cell_type": "code",
      "source": [
        "# Q.15 Write a Python program to calculate the factorial of a number provided by the user using a while loop.\n",
        "\n",
        "# Get input from user\n",
        "num = int(input(\"Enter a number: \"))\n",
        "\n",
        "# Initialize variables\n",
        "factorial = 1\n",
        "i = 1\n",
        "\n",
        "# Calculate factorial using while loop\n",
        "while i <= num:\n",
        "    factorial *= i\n",
        "    i += 1\n",
        "\n",
        "print(f\"Factorial of {num} is: {factorial}\")"
      ],
      "metadata": {
        "colab": {
          "base_uri": "https://localhost:8080/"
        },
        "id": "wZeMXACPVYMH",
        "outputId": "d95c1b41-5b15-4c24-b0b3-895f4fe18308"
      },
      "execution_count": 10,
      "outputs": [
        {
          "output_type": "stream",
          "name": "stdout",
          "text": [
            "Enter a number: 5\n",
            "Factorial of 5 is: 120\n"
          ]
        }
      ]
    },
    {
      "cell_type": "code",
      "source": [],
      "metadata": {
        "id": "PHUrD_FuWVVN"
      },
      "execution_count": null,
      "outputs": []
    }
  ]
}